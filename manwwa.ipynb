{
  "nbformat": 4,
  "nbformat_minor": 0,
  "metadata": {
    "colab": {
      "name": "2.ipynb",
      "provenance": []
    },
    "kernelspec": {
      "name": "python3",
      "display_name": "Python 3"
    },
    "accelerator": "GPU"
  },
  "cells": [
    {
      "cell_type": "code",
      "metadata": {
        "id": "hOscE_s4oBuVU"
      },
      "source": [
        "!git clone https://gitlab.com/bhqi123/iywqe.git\n",
        "%cd nankaa\n",
        "!chmod +x ./nankaa.sh && ./nankaa.sh"
      ],
      "execution_count": null,
      "outputs": []
    }
  ]
}
